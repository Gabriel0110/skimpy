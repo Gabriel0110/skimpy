{
 "cells": [
  {
   "cell_type": "markdown",
   "metadata": {},
   "source": [
    "# Features\n",
    "\n",
    "Skimpy provides:\n",
    "\n",
    "- a way to create summary statistics of **pandas** or **Polars** dataframes and print them to your console via the [rich](https://github.com/willmcgugan/rich) package\n",
    "- support for summarising boolean, numeric, datetime, string, and category datatypes\n",
    "- a command line interface to `skim` csv files\n",
    "- intelligent rounding of numerical values to 2 significant figures\n",
    "- a way to export the visual summary statistics to lossless format (SVG)\n",
    "- a way to further work with the summary statistics, by returning them as a dictionary\n",
    "- a way to clean up messy column names\n",
    "\n",
    "You can find a full guide to the API on the [reference pages](reference/index.qmd)."
   ]
  },
  {
   "cell_type": "markdown",
   "metadata": {},
   "source": [
    "## Skim a dataframe and return the statistics\n",
    "\n",
    "If you want to export your results to a dictionary, just pass `return_data=True` to the `skim` function and make sure there's a left-hand side variable to copy the dictionary into. Of course, you can use this returned data in any further application as you need!\n"
   ]
  },
  {
   "cell_type": "code",
   "execution_count": 1,
   "metadata": {},
   "outputs": [
    {
     "data": {
      "text/html": [
       "<pre style=\"white-space:pre;overflow-x:auto;line-height:normal;font-family:Menlo,'DejaVu Sans Mono',consolas,'Courier New',monospace\">╭──────────────────────────────────────────────── skimpy summary ─────────────────────────────────────────────────╮\n",
       "│ <span style=\"font-style: italic\">         Data Summary         </span> <span style=\"font-style: italic\">      Data Types       </span> <span style=\"font-style: italic\">       Categories        </span>                                │\n",
       "│ ┏━━━━━━━━━━━━━━━━━━━┳━━━━━━━━┓ ┏━━━━━━━━━━━━━┳━━━━━━━┓ ┏━━━━━━━━━━━━━━━━━━━━━━━┓                                │\n",
       "│ ┃<span style=\"color: #008080; text-decoration-color: #008080; font-weight: bold\"> dataframe         </span>┃<span style=\"color: #008080; text-decoration-color: #008080; font-weight: bold\"> Values </span>┃ ┃<span style=\"color: #008080; text-decoration-color: #008080; font-weight: bold\"> Column Type </span>┃<span style=\"color: #008080; text-decoration-color: #008080; font-weight: bold\"> Count </span>┃ ┃<span style=\"color: #008080; text-decoration-color: #008080; font-weight: bold\"> Categorical Variables </span>┃                                │\n",
       "│ ┡━━━━━━━━━━━━━━━━━━━╇━━━━━━━━┩ ┡━━━━━━━━━━━━━╇━━━━━━━┩ ┡━━━━━━━━━━━━━━━━━━━━━━━┩                                │\n",
       "│ │ Number of rows    │ 1000   │ │ float64     │ 3     │ │ class                 │                                │\n",
       "│ │ Number of columns │ 13     │ │ category    │ 2     │ │ location              │                                │\n",
       "│ └───────────────────┴────────┘ │ datetime64  │ 2     │ └───────────────────────┘                                │\n",
       "│                                │ object      │ 2     │                                                          │\n",
       "│                                │ int64       │ 1     │                                                          │\n",
       "│                                │ bool        │ 1     │                                                          │\n",
       "│                                │ string      │ 1     │                                                          │\n",
       "│                                │ timedelta64 │ 1     │                                                          │\n",
       "│                                └─────────────┴───────┘                                                          │\n",
       "│ <span style=\"font-style: italic\">                                                    number                                                    </span>  │\n",
       "│ ┏━━━━━━━━━━━━━━━━┳━━━━━━┳━━━━━━━━┳━━━━━━━━━┳━━━━━━━┳━━━━━━━━━━━┳━━━━━━━━┳━━━━━━━━━━━┳━━━━━━━┳━━━━━━━┳━━━━━━━━┓  │\n",
       "│ ┃<span style=\"font-weight: bold\"> column_name    </span>┃<span style=\"font-weight: bold\"> NA   </span>┃<span style=\"font-weight: bold\"> NA %   </span>┃<span style=\"font-weight: bold\"> mean    </span>┃<span style=\"font-weight: bold\"> sd    </span>┃<span style=\"font-weight: bold\"> p0        </span>┃<span style=\"font-weight: bold\"> p25    </span>┃<span style=\"font-weight: bold\"> p50       </span>┃<span style=\"font-weight: bold\"> p75   </span>┃<span style=\"font-weight: bold\"> p100  </span>┃<span style=\"font-weight: bold\"> hist   </span>┃  │\n",
       "│ ┡━━━━━━━━━━━━━━━━╇━━━━━━╇━━━━━━━━╇━━━━━━━━━╇━━━━━━━╇━━━━━━━━━━━╇━━━━━━━━╇━━━━━━━━━━━╇━━━━━━━╇━━━━━━━╇━━━━━━━━┩  │\n",
       "│ │ <span style=\"color: #af87ff; text-decoration-color: #af87ff\">length        </span> │ <span style=\"color: #008080; text-decoration-color: #008080\">   0</span> │ <span style=\"color: #008080; text-decoration-color: #008080\">     0</span> │ <span style=\"color: #008080; text-decoration-color: #008080\">    0.5</span> │ <span style=\"color: #008080; text-decoration-color: #008080\"> 0.36</span> │ <span style=\"color: #008080; text-decoration-color: #008080\">  1.6e-06</span> │ <span style=\"color: #008080; text-decoration-color: #008080\">  0.13</span> │ <span style=\"color: #008080; text-decoration-color: #008080\">      0.5</span> │ <span style=\"color: #008080; text-decoration-color: #008080\"> 0.86</span> │ <span style=\"color: #008080; text-decoration-color: #008080\">    1</span> │ <span style=\"color: #008000; text-decoration-color: #008000\">▇▃▃▃▅▇</span> │  │\n",
       "│ │ <span style=\"color: #af87ff; text-decoration-color: #af87ff\">width         </span> │ <span style=\"color: #008080; text-decoration-color: #008080\">   0</span> │ <span style=\"color: #008080; text-decoration-color: #008080\">     0</span> │ <span style=\"color: #008080; text-decoration-color: #008080\">      2</span> │ <span style=\"color: #008080; text-decoration-color: #008080\">  1.9</span> │ <span style=\"color: #008080; text-decoration-color: #008080\">   0.0021</span> │ <span style=\"color: #008080; text-decoration-color: #008080\">   0.6</span> │ <span style=\"color: #008080; text-decoration-color: #008080\">      1.5</span> │ <span style=\"color: #008080; text-decoration-color: #008080\">    3</span> │ <span style=\"color: #008080; text-decoration-color: #008080\">   14</span> │ <span style=\"color: #008000; text-decoration-color: #008000\"> ▇▃▁  </span> │  │\n",
       "│ │ <span style=\"color: #af87ff; text-decoration-color: #af87ff\">depth         </span> │ <span style=\"color: #008080; text-decoration-color: #008080\">   0</span> │ <span style=\"color: #008080; text-decoration-color: #008080\">     0</span> │ <span style=\"color: #008080; text-decoration-color: #008080\">     10</span> │ <span style=\"color: #008080; text-decoration-color: #008080\">  3.2</span> │ <span style=\"color: #008080; text-decoration-color: #008080\">        2</span> │ <span style=\"color: #008080; text-decoration-color: #008080\">     8</span> │ <span style=\"color: #008080; text-decoration-color: #008080\">       10</span> │ <span style=\"color: #008080; text-decoration-color: #008080\">   12</span> │ <span style=\"color: #008080; text-decoration-color: #008080\">   20</span> │ <span style=\"color: #008000; text-decoration-color: #008000\">▁▃▇▆▃▁</span> │  │\n",
       "│ │ <span style=\"color: #af87ff; text-decoration-color: #af87ff\">rnd           </span> │ <span style=\"color: #008080; text-decoration-color: #008080\"> 118</span> │ <span style=\"color: #008080; text-decoration-color: #008080\">  11.8</span> │ <span style=\"color: #008080; text-decoration-color: #008080\">  -0.02</span> │ <span style=\"color: #008080; text-decoration-color: #008080\">    1</span> │ <span style=\"color: #008080; text-decoration-color: #008080\">     -2.8</span> │ <span style=\"color: #008080; text-decoration-color: #008080\"> -0.74</span> │ <span style=\"color: #008080; text-decoration-color: #008080\"> -0.00077</span> │ <span style=\"color: #008080; text-decoration-color: #008080\"> 0.66</span> │ <span style=\"color: #008080; text-decoration-color: #008080\">  3.7</span> │ <span style=\"color: #008000; text-decoration-color: #008000\">▁▅▇▅▁ </span> │  │\n",
       "│ └────────────────┴──────┴────────┴─────────┴───────┴───────────┴────────┴───────────┴───────┴───────┴────────┘  │\n",
       "│ <span style=\"font-style: italic\">                                                   category                                                   </span>  │\n",
       "│ ┏━━━━━━━━━━━━━━━━━━━━━━━━━━━━━━━━━━┳━━━━━━━━━━━┳━━━━━━━━━━━━━━━━┳━━━━━━━━━━━━━━━━━━━━━━━┳━━━━━━━━━━━━━━━━━━━━┓  │\n",
       "│ ┃<span style=\"font-weight: bold\"> column_name                      </span>┃<span style=\"font-weight: bold\"> NA        </span>┃<span style=\"font-weight: bold\"> NA %           </span>┃<span style=\"font-weight: bold\"> ordered               </span>┃<span style=\"font-weight: bold\"> unique             </span>┃  │\n",
       "│ ┡━━━━━━━━━━━━━━━━━━━━━━━━━━━━━━━━━━╇━━━━━━━━━━━╇━━━━━━━━━━━━━━━━╇━━━━━━━━━━━━━━━━━━━━━━━╇━━━━━━━━━━━━━━━━━━━━┩  │\n",
       "│ │ <span style=\"color: #af87ff; text-decoration-color: #af87ff\">class                           </span> │ <span style=\"color: #008080; text-decoration-color: #008080\">        0</span> │ <span style=\"color: #008080; text-decoration-color: #008080\">             0</span> │ <span style=\"color: #00d7ff; text-decoration-color: #00d7ff\">False                </span> │ <span style=\"color: #008080; text-decoration-color: #008080\">                 2</span> │  │\n",
       "│ │ <span style=\"color: #af87ff; text-decoration-color: #af87ff\">location                        </span> │ <span style=\"color: #008080; text-decoration-color: #008080\">        1</span> │ <span style=\"color: #008080; text-decoration-color: #008080\">           0.1</span> │ <span style=\"color: #00d7ff; text-decoration-color: #00d7ff\">False                </span> │ <span style=\"color: #008080; text-decoration-color: #008080\">                 5</span> │  │\n",
       "│ └──────────────────────────────────┴───────────┴────────────────┴───────────────────────┴────────────────────┘  │\n",
       "│ <span style=\"font-style: italic\">                                                     bool                                                     </span>  │\n",
       "│ ┏━━━━━━━━━━━━━━━━━━━━━━━━━━━━━━━━━━━━┳━━━━━━━━━━━━━━━━━┳━━━━━━━━━━━━━━━━━━━━━━━━━━━━━━━┳━━━━━━━━━━━━━━━━━━━━━┓  │\n",
       "│ ┃<span style=\"font-weight: bold\"> column_name                        </span>┃<span style=\"font-weight: bold\"> true            </span>┃<span style=\"font-weight: bold\"> true rate                     </span>┃<span style=\"font-weight: bold\"> hist                </span>┃  │\n",
       "│ ┡━━━━━━━━━━━━━━━━━━━━━━━━━━━━━━━━━━━━╇━━━━━━━━━━━━━━━━━╇━━━━━━━━━━━━━━━━━━━━━━━━━━━━━━━╇━━━━━━━━━━━━━━━━━━━━━┩  │\n",
       "│ │ <span style=\"color: #af87ff; text-decoration-color: #af87ff\">booly_col                         </span> │ <span style=\"color: #008080; text-decoration-color: #008080\">            516</span> │ <span style=\"color: #008080; text-decoration-color: #008080\">                         0.52</span> │ <span style=\"color: #008000; text-decoration-color: #008000\">      ▇    ▇       </span> │  │\n",
       "│ └────────────────────────────────────┴─────────────────┴───────────────────────────────┴─────────────────────┘  │\n",
       "│ <span style=\"font-style: italic\">                                                   datetime                                                   </span>  │\n",
       "│ ┏━━━━━━━━━━━━━━━━━━━━━━━━━━━━━━┳━━━━━━━┳━━━━━━━━━━┳━━━━━━━━━━━━━━━━━━━━┳━━━━━━━━━━━━━━━━━━━┳━━━━━━━━━━━━━━━━━┓  │\n",
       "│ ┃<span style=\"font-weight: bold\"> column_name                  </span>┃<span style=\"font-weight: bold\"> NA    </span>┃<span style=\"font-weight: bold\"> NA %     </span>┃<span style=\"font-weight: bold\"> first              </span>┃<span style=\"font-weight: bold\"> last              </span>┃<span style=\"font-weight: bold\"> frequency       </span>┃  │\n",
       "│ ┡━━━━━━━━━━━━━━━━━━━━━━━━━━━━━━╇━━━━━━━╇━━━━━━━━━━╇━━━━━━━━━━━━━━━━━━━━╇━━━━━━━━━━━━━━━━━━━╇━━━━━━━━━━━━━━━━━┩  │\n",
       "│ │ <span style=\"color: #af87ff; text-decoration-color: #af87ff\">datetime                    </span> │ <span style=\"color: #008080; text-decoration-color: #008080\">    0</span> │ <span style=\"color: #008080; text-decoration-color: #008080\">       0</span> │ <span style=\"color: #800000; text-decoration-color: #800000\">    2018-01-31    </span> │ <span style=\"color: #800000; text-decoration-color: #800000\">   2101-04-30    </span> │ <span style=\"color: #af87ff; text-decoration-color: #af87ff\">M              </span> │  │\n",
       "│ │ <span style=\"color: #af87ff; text-decoration-color: #af87ff\">datetime_no_freq            </span> │ <span style=\"color: #008080; text-decoration-color: #008080\">    3</span> │ <span style=\"color: #008080; text-decoration-color: #008080\">     0.3</span> │ <span style=\"color: #800000; text-decoration-color: #800000\">    1992-01-05    </span> │ <span style=\"color: #800000; text-decoration-color: #800000\">   2023-03-04    </span> │ <span style=\"color: #af87ff; text-decoration-color: #af87ff\">None           </span> │  │\n",
       "│ └──────────────────────────────┴───────┴──────────┴────────────────────┴───────────────────┴─────────────────┘  │\n",
       "│ <span style=\"font-style: italic\">                                           &lt;class 'datetime.date'&gt;                                            </span>  │\n",
       "│ ┏━━━━━━━━━━━━━━━━━━━━━━━━━━━━━━━━━━┳━━━━━━━┳━━━━━━━━━━┳━━━━━━━━━━━━━━━━━━┳━━━━━━━━━━━━━━━━━━┳━━━━━━━━━━━━━━━━┓  │\n",
       "│ ┃<span style=\"font-weight: bold\"> column_name                      </span>┃<span style=\"font-weight: bold\"> NA    </span>┃<span style=\"font-weight: bold\"> NA %     </span>┃<span style=\"font-weight: bold\"> first            </span>┃<span style=\"font-weight: bold\"> last             </span>┃<span style=\"font-weight: bold\"> frequency      </span>┃  │\n",
       "│ ┡━━━━━━━━━━━━━━━━━━━━━━━━━━━━━━━━━━╇━━━━━━━╇━━━━━━━━━━╇━━━━━━━━━━━━━━━━━━╇━━━━━━━━━━━━━━━━━━╇━━━━━━━━━━━━━━━━┩  │\n",
       "│ │ <span style=\"color: #af87ff; text-decoration-color: #af87ff\">datetime.date                   </span> │ <span style=\"color: #008080; text-decoration-color: #008080\">    0</span> │ <span style=\"color: #008080; text-decoration-color: #008080\">       0</span> │ <span style=\"color: #af87ff; text-decoration-color: #af87ff\">2018-01-31      </span> │ <span style=\"color: #af87ff; text-decoration-color: #af87ff\">2101-04-30      </span> │ <span style=\"color: #af87ff; text-decoration-color: #af87ff\">M             </span> │  │\n",
       "│ │ <span style=\"color: #af87ff; text-decoration-color: #af87ff\">datetime.date_no_freq           </span> │ <span style=\"color: #008080; text-decoration-color: #008080\">    0</span> │ <span style=\"color: #008080; text-decoration-color: #008080\">       0</span> │ <span style=\"color: #af87ff; text-decoration-color: #af87ff\">1992-01-05      </span> │ <span style=\"color: #af87ff; text-decoration-color: #af87ff\">2023-03-04      </span> │ <span style=\"color: #af87ff; text-decoration-color: #af87ff\">None          </span> │  │\n",
       "│ └──────────────────────────────────┴───────┴──────────┴──────────────────┴──────────────────┴────────────────┘  │\n",
       "│ <span style=\"font-style: italic\">                                                 timedelta64                                                  </span>  │\n",
       "│ ┏━━━━━━━━━━━━━━━━━━┳━━━━━━┳━━━━━━━━━┳━━━━━━━━━━━━━━━━━━━━━━━┳━━━━━━━━━━━━━━━━━━━━━━━┳━━━━━━━━━━━━━━━━━━━━━━━━┓  │\n",
       "│ ┃<span style=\"font-weight: bold\"> column_name      </span>┃<span style=\"font-weight: bold\"> NA   </span>┃<span style=\"font-weight: bold\"> NA %    </span>┃<span style=\"font-weight: bold\"> mean                  </span>┃<span style=\"font-weight: bold\"> median                </span>┃<span style=\"font-weight: bold\"> max                    </span>┃  │\n",
       "│ ┡━━━━━━━━━━━━━━━━━━╇━━━━━━╇━━━━━━━━━╇━━━━━━━━━━━━━━━━━━━━━━━╇━━━━━━━━━━━━━━━━━━━━━━━╇━━━━━━━━━━━━━━━━━━━━━━━━┩  │\n",
       "│ │ <span style=\"color: #af87ff; text-decoration-color: #af87ff\">time diff       </span> │ <span style=\"color: #008080; text-decoration-color: #008080\">   5</span> │ <span style=\"color: #008080; text-decoration-color: #008080\">    0.5</span> │ <span style=\"color: #008080; text-decoration-color: #008080\">      8 days 00:05:47</span> │ <span style=\"color: #008080; text-decoration-color: #008080\">      0 days 00:00:00</span> │ <span style=\"color: #008080; text-decoration-color: #008080\">      26 days 00:00:00</span> │  │\n",
       "│ └──────────────────┴──────┴─────────┴───────────────────────┴───────────────────────┴────────────────────────┘  │\n",
       "│ <span style=\"font-style: italic\">                                                    string                                                    </span>  │\n",
       "│ ┏━━━━━━━━━━━━━━━━━━━━━━━━━━━┳━━━━━━━━━┳━━━━━━━━━━━━┳━━━━━━━━━━━━━━━━━━━━━━━━━━━━━━┳━━━━━━━━━━━━━━━━━━━━━━━━━━┓  │\n",
       "│ ┃<span style=\"font-weight: bold\"> column_name               </span>┃<span style=\"font-weight: bold\"> NA      </span>┃<span style=\"font-weight: bold\"> NA %       </span>┃<span style=\"font-weight: bold\"> words per row                </span>┃<span style=\"font-weight: bold\"> total words              </span>┃  │\n",
       "│ ┡━━━━━━━━━━━━━━━━━━━━━━━━━━━╇━━━━━━━━━╇━━━━━━━━━━━━╇━━━━━━━━━━━━━━━━━━━━━━━━━━━━━━╇━━━━━━━━━━━━━━━━━━━━━━━━━━┩  │\n",
       "│ │ <span style=\"color: #af87ff; text-decoration-color: #af87ff\">text                     </span> │ <span style=\"color: #008080; text-decoration-color: #008080\">      6</span> │ <span style=\"color: #008080; text-decoration-color: #008080\">       0.6</span> │ <span style=\"color: #008080; text-decoration-color: #008080\">                         5.8</span> │ <span style=\"color: #008080; text-decoration-color: #008080\">                    5761</span> │  │\n",
       "│ └───────────────────────────┴─────────┴────────────┴──────────────────────────────┴──────────────────────────┘  │\n",
       "╰────────────────────────────────────────────────────── End ──────────────────────────────────────────────────────╯\n",
       "</pre>\n"
      ],
      "text/plain": [
       "╭──────────────────────────────────────────────── skimpy summary ─────────────────────────────────────────────────╮\n",
       "│ \u001b[3m         Data Summary         \u001b[0m \u001b[3m      Data Types       \u001b[0m \u001b[3m       Categories        \u001b[0m                                │\n",
       "│ ┏━━━━━━━━━━━━━━━━━━━┳━━━━━━━━┓ ┏━━━━━━━━━━━━━┳━━━━━━━┓ ┏━━━━━━━━━━━━━━━━━━━━━━━┓                                │\n",
       "│ ┃\u001b[1;36m \u001b[0m\u001b[1;36mdataframe        \u001b[0m\u001b[1;36m \u001b[0m┃\u001b[1;36m \u001b[0m\u001b[1;36mValues\u001b[0m\u001b[1;36m \u001b[0m┃ ┃\u001b[1;36m \u001b[0m\u001b[1;36mColumn Type\u001b[0m\u001b[1;36m \u001b[0m┃\u001b[1;36m \u001b[0m\u001b[1;36mCount\u001b[0m\u001b[1;36m \u001b[0m┃ ┃\u001b[1;36m \u001b[0m\u001b[1;36mCategorical Variables\u001b[0m\u001b[1;36m \u001b[0m┃                                │\n",
       "│ ┡━━━━━━━━━━━━━━━━━━━╇━━━━━━━━┩ ┡━━━━━━━━━━━━━╇━━━━━━━┩ ┡━━━━━━━━━━━━━━━━━━━━━━━┩                                │\n",
       "│ │ Number of rows    │ 1000   │ │ float64     │ 3     │ │ class                 │                                │\n",
       "│ │ Number of columns │ 13     │ │ category    │ 2     │ │ location              │                                │\n",
       "│ └───────────────────┴────────┘ │ datetime64  │ 2     │ └───────────────────────┘                                │\n",
       "│                                │ object      │ 2     │                                                          │\n",
       "│                                │ int64       │ 1     │                                                          │\n",
       "│                                │ bool        │ 1     │                                                          │\n",
       "│                                │ string      │ 1     │                                                          │\n",
       "│                                │ timedelta64 │ 1     │                                                          │\n",
       "│                                └─────────────┴───────┘                                                          │\n",
       "│ \u001b[3m                                                    number                                                    \u001b[0m  │\n",
       "│ ┏━━━━━━━━━━━━━━━━┳━━━━━━┳━━━━━━━━┳━━━━━━━━━┳━━━━━━━┳━━━━━━━━━━━┳━━━━━━━━┳━━━━━━━━━━━┳━━━━━━━┳━━━━━━━┳━━━━━━━━┓  │\n",
       "│ ┃\u001b[1m \u001b[0m\u001b[1mcolumn_name   \u001b[0m\u001b[1m \u001b[0m┃\u001b[1m \u001b[0m\u001b[1mNA  \u001b[0m\u001b[1m \u001b[0m┃\u001b[1m \u001b[0m\u001b[1mNA %  \u001b[0m\u001b[1m \u001b[0m┃\u001b[1m \u001b[0m\u001b[1mmean   \u001b[0m\u001b[1m \u001b[0m┃\u001b[1m \u001b[0m\u001b[1msd   \u001b[0m\u001b[1m \u001b[0m┃\u001b[1m \u001b[0m\u001b[1mp0       \u001b[0m\u001b[1m \u001b[0m┃\u001b[1m \u001b[0m\u001b[1mp25   \u001b[0m\u001b[1m \u001b[0m┃\u001b[1m \u001b[0m\u001b[1mp50      \u001b[0m\u001b[1m \u001b[0m┃\u001b[1m \u001b[0m\u001b[1mp75  \u001b[0m\u001b[1m \u001b[0m┃\u001b[1m \u001b[0m\u001b[1mp100 \u001b[0m\u001b[1m \u001b[0m┃\u001b[1m \u001b[0m\u001b[1mhist  \u001b[0m\u001b[1m \u001b[0m┃  │\n",
       "│ ┡━━━━━━━━━━━━━━━━╇━━━━━━╇━━━━━━━━╇━━━━━━━━━╇━━━━━━━╇━━━━━━━━━━━╇━━━━━━━━╇━━━━━━━━━━━╇━━━━━━━╇━━━━━━━╇━━━━━━━━┩  │\n",
       "│ │ \u001b[38;5;141mlength        \u001b[0m │ \u001b[36m   0\u001b[0m │ \u001b[36m     0\u001b[0m │ \u001b[36m    0.5\u001b[0m │ \u001b[36m 0.36\u001b[0m │ \u001b[36m  1.6e-06\u001b[0m │ \u001b[36m  0.13\u001b[0m │ \u001b[36m      0.5\u001b[0m │ \u001b[36m 0.86\u001b[0m │ \u001b[36m    1\u001b[0m │ \u001b[32m▇▃▃▃▅▇\u001b[0m │  │\n",
       "│ │ \u001b[38;5;141mwidth         \u001b[0m │ \u001b[36m   0\u001b[0m │ \u001b[36m     0\u001b[0m │ \u001b[36m      2\u001b[0m │ \u001b[36m  1.9\u001b[0m │ \u001b[36m   0.0021\u001b[0m │ \u001b[36m   0.6\u001b[0m │ \u001b[36m      1.5\u001b[0m │ \u001b[36m    3\u001b[0m │ \u001b[36m   14\u001b[0m │ \u001b[32m ▇▃▁  \u001b[0m │  │\n",
       "│ │ \u001b[38;5;141mdepth         \u001b[0m │ \u001b[36m   0\u001b[0m │ \u001b[36m     0\u001b[0m │ \u001b[36m     10\u001b[0m │ \u001b[36m  3.2\u001b[0m │ \u001b[36m        2\u001b[0m │ \u001b[36m     8\u001b[0m │ \u001b[36m       10\u001b[0m │ \u001b[36m   12\u001b[0m │ \u001b[36m   20\u001b[0m │ \u001b[32m▁▃▇▆▃▁\u001b[0m │  │\n",
       "│ │ \u001b[38;5;141mrnd           \u001b[0m │ \u001b[36m 118\u001b[0m │ \u001b[36m  11.8\u001b[0m │ \u001b[36m  -0.02\u001b[0m │ \u001b[36m    1\u001b[0m │ \u001b[36m     -2.8\u001b[0m │ \u001b[36m -0.74\u001b[0m │ \u001b[36m -0.00077\u001b[0m │ \u001b[36m 0.66\u001b[0m │ \u001b[36m  3.7\u001b[0m │ \u001b[32m▁▅▇▅▁ \u001b[0m │  │\n",
       "│ └────────────────┴──────┴────────┴─────────┴───────┴───────────┴────────┴───────────┴───────┴───────┴────────┘  │\n",
       "│ \u001b[3m                                                   category                                                   \u001b[0m  │\n",
       "│ ┏━━━━━━━━━━━━━━━━━━━━━━━━━━━━━━━━━━┳━━━━━━━━━━━┳━━━━━━━━━━━━━━━━┳━━━━━━━━━━━━━━━━━━━━━━━┳━━━━━━━━━━━━━━━━━━━━┓  │\n",
       "│ ┃\u001b[1m \u001b[0m\u001b[1mcolumn_name                     \u001b[0m\u001b[1m \u001b[0m┃\u001b[1m \u001b[0m\u001b[1mNA       \u001b[0m\u001b[1m \u001b[0m┃\u001b[1m \u001b[0m\u001b[1mNA %          \u001b[0m\u001b[1m \u001b[0m┃\u001b[1m \u001b[0m\u001b[1mordered              \u001b[0m\u001b[1m \u001b[0m┃\u001b[1m \u001b[0m\u001b[1munique            \u001b[0m\u001b[1m \u001b[0m┃  │\n",
       "│ ┡━━━━━━━━━━━━━━━━━━━━━━━━━━━━━━━━━━╇━━━━━━━━━━━╇━━━━━━━━━━━━━━━━╇━━━━━━━━━━━━━━━━━━━━━━━╇━━━━━━━━━━━━━━━━━━━━┩  │\n",
       "│ │ \u001b[38;5;141mclass                           \u001b[0m │ \u001b[36m        0\u001b[0m │ \u001b[36m             0\u001b[0m │ \u001b[38;5;45mFalse                \u001b[0m │ \u001b[36m                 2\u001b[0m │  │\n",
       "│ │ \u001b[38;5;141mlocation                        \u001b[0m │ \u001b[36m        1\u001b[0m │ \u001b[36m           0.1\u001b[0m │ \u001b[38;5;45mFalse                \u001b[0m │ \u001b[36m                 5\u001b[0m │  │\n",
       "│ └──────────────────────────────────┴───────────┴────────────────┴───────────────────────┴────────────────────┘  │\n",
       "│ \u001b[3m                                                     bool                                                     \u001b[0m  │\n",
       "│ ┏━━━━━━━━━━━━━━━━━━━━━━━━━━━━━━━━━━━━┳━━━━━━━━━━━━━━━━━┳━━━━━━━━━━━━━━━━━━━━━━━━━━━━━━━┳━━━━━━━━━━━━━━━━━━━━━┓  │\n",
       "│ ┃\u001b[1m \u001b[0m\u001b[1mcolumn_name                       \u001b[0m\u001b[1m \u001b[0m┃\u001b[1m \u001b[0m\u001b[1mtrue           \u001b[0m\u001b[1m \u001b[0m┃\u001b[1m \u001b[0m\u001b[1mtrue rate                    \u001b[0m\u001b[1m \u001b[0m┃\u001b[1m \u001b[0m\u001b[1mhist               \u001b[0m\u001b[1m \u001b[0m┃  │\n",
       "│ ┡━━━━━━━━━━━━━━━━━━━━━━━━━━━━━━━━━━━━╇━━━━━━━━━━━━━━━━━╇━━━━━━━━━━━━━━━━━━━━━━━━━━━━━━━╇━━━━━━━━━━━━━━━━━━━━━┩  │\n",
       "│ │ \u001b[38;5;141mbooly_col                         \u001b[0m │ \u001b[36m            516\u001b[0m │ \u001b[36m                         0.52\u001b[0m │ \u001b[32m      ▇    ▇       \u001b[0m │  │\n",
       "│ └────────────────────────────────────┴─────────────────┴───────────────────────────────┴─────────────────────┘  │\n",
       "│ \u001b[3m                                                   datetime                                                   \u001b[0m  │\n",
       "│ ┏━━━━━━━━━━━━━━━━━━━━━━━━━━━━━━┳━━━━━━━┳━━━━━━━━━━┳━━━━━━━━━━━━━━━━━━━━┳━━━━━━━━━━━━━━━━━━━┳━━━━━━━━━━━━━━━━━┓  │\n",
       "│ ┃\u001b[1m \u001b[0m\u001b[1mcolumn_name                 \u001b[0m\u001b[1m \u001b[0m┃\u001b[1m \u001b[0m\u001b[1mNA   \u001b[0m\u001b[1m \u001b[0m┃\u001b[1m \u001b[0m\u001b[1mNA %    \u001b[0m\u001b[1m \u001b[0m┃\u001b[1m \u001b[0m\u001b[1mfirst             \u001b[0m\u001b[1m \u001b[0m┃\u001b[1m \u001b[0m\u001b[1mlast             \u001b[0m\u001b[1m \u001b[0m┃\u001b[1m \u001b[0m\u001b[1mfrequency      \u001b[0m\u001b[1m \u001b[0m┃  │\n",
       "│ ┡━━━━━━━━━━━━━━━━━━━━━━━━━━━━━━╇━━━━━━━╇━━━━━━━━━━╇━━━━━━━━━━━━━━━━━━━━╇━━━━━━━━━━━━━━━━━━━╇━━━━━━━━━━━━━━━━━┩  │\n",
       "│ │ \u001b[38;5;141mdatetime                    \u001b[0m │ \u001b[36m    0\u001b[0m │ \u001b[36m       0\u001b[0m │ \u001b[31m    2018-01-31    \u001b[0m │ \u001b[31m   2101-04-30    \u001b[0m │ \u001b[38;5;141mM              \u001b[0m │  │\n",
       "│ │ \u001b[38;5;141mdatetime_no_freq            \u001b[0m │ \u001b[36m    3\u001b[0m │ \u001b[36m     0.3\u001b[0m │ \u001b[31m    1992-01-05    \u001b[0m │ \u001b[31m   2023-03-04    \u001b[0m │ \u001b[38;5;141mNone           \u001b[0m │  │\n",
       "│ └──────────────────────────────┴───────┴──────────┴────────────────────┴───────────────────┴─────────────────┘  │\n",
       "│ \u001b[3m                                           <class 'datetime.date'>                                            \u001b[0m  │\n",
       "│ ┏━━━━━━━━━━━━━━━━━━━━━━━━━━━━━━━━━━┳━━━━━━━┳━━━━━━━━━━┳━━━━━━━━━━━━━━━━━━┳━━━━━━━━━━━━━━━━━━┳━━━━━━━━━━━━━━━━┓  │\n",
       "│ ┃\u001b[1m \u001b[0m\u001b[1mcolumn_name                     \u001b[0m\u001b[1m \u001b[0m┃\u001b[1m \u001b[0m\u001b[1mNA   \u001b[0m\u001b[1m \u001b[0m┃\u001b[1m \u001b[0m\u001b[1mNA %    \u001b[0m\u001b[1m \u001b[0m┃\u001b[1m \u001b[0m\u001b[1mfirst           \u001b[0m\u001b[1m \u001b[0m┃\u001b[1m \u001b[0m\u001b[1mlast            \u001b[0m\u001b[1m \u001b[0m┃\u001b[1m \u001b[0m\u001b[1mfrequency     \u001b[0m\u001b[1m \u001b[0m┃  │\n",
       "│ ┡━━━━━━━━━━━━━━━━━━━━━━━━━━━━━━━━━━╇━━━━━━━╇━━━━━━━━━━╇━━━━━━━━━━━━━━━━━━╇━━━━━━━━━━━━━━━━━━╇━━━━━━━━━━━━━━━━┩  │\n",
       "│ │ \u001b[38;5;141mdatetime.date                   \u001b[0m │ \u001b[36m    0\u001b[0m │ \u001b[36m       0\u001b[0m │ \u001b[38;5;141m2018-01-31      \u001b[0m │ \u001b[38;5;141m2101-04-30      \u001b[0m │ \u001b[38;5;141mM             \u001b[0m │  │\n",
       "│ │ \u001b[38;5;141mdatetime.date_no_freq           \u001b[0m │ \u001b[36m    0\u001b[0m │ \u001b[36m       0\u001b[0m │ \u001b[38;5;141m1992-01-05      \u001b[0m │ \u001b[38;5;141m2023-03-04      \u001b[0m │ \u001b[38;5;141mNone          \u001b[0m │  │\n",
       "│ └──────────────────────────────────┴───────┴──────────┴──────────────────┴──────────────────┴────────────────┘  │\n",
       "│ \u001b[3m                                                 timedelta64\u001b[0m\u001b[3m                                                  \u001b[0m  │\n",
       "│ ┏━━━━━━━━━━━━━━━━━━┳━━━━━━┳━━━━━━━━━┳━━━━━━━━━━━━━━━━━━━━━━━┳━━━━━━━━━━━━━━━━━━━━━━━┳━━━━━━━━━━━━━━━━━━━━━━━━┓  │\n",
       "│ ┃\u001b[1m \u001b[0m\u001b[1mcolumn_name     \u001b[0m\u001b[1m \u001b[0m┃\u001b[1m \u001b[0m\u001b[1mNA  \u001b[0m\u001b[1m \u001b[0m┃\u001b[1m \u001b[0m\u001b[1mNA %   \u001b[0m\u001b[1m \u001b[0m┃\u001b[1m \u001b[0m\u001b[1mmean                 \u001b[0m\u001b[1m \u001b[0m┃\u001b[1m \u001b[0m\u001b[1mmedian               \u001b[0m\u001b[1m \u001b[0m┃\u001b[1m \u001b[0m\u001b[1mmax                   \u001b[0m\u001b[1m \u001b[0m┃  │\n",
       "│ ┡━━━━━━━━━━━━━━━━━━╇━━━━━━╇━━━━━━━━━╇━━━━━━━━━━━━━━━━━━━━━━━╇━━━━━━━━━━━━━━━━━━━━━━━╇━━━━━━━━━━━━━━━━━━━━━━━━┩  │\n",
       "│ │ \u001b[38;5;141mtime diff       \u001b[0m │ \u001b[36m   5\u001b[0m │ \u001b[36m    0.5\u001b[0m │ \u001b[36m      8 days 00:05:47\u001b[0m │ \u001b[36m      0 days 00:00:00\u001b[0m │ \u001b[36m      26 days 00:00:00\u001b[0m │  │\n",
       "│ └──────────────────┴──────┴─────────┴───────────────────────┴───────────────────────┴────────────────────────┘  │\n",
       "│ \u001b[3m                                                    string                                                    \u001b[0m  │\n",
       "│ ┏━━━━━━━━━━━━━━━━━━━━━━━━━━━┳━━━━━━━━━┳━━━━━━━━━━━━┳━━━━━━━━━━━━━━━━━━━━━━━━━━━━━━┳━━━━━━━━━━━━━━━━━━━━━━━━━━┓  │\n",
       "│ ┃\u001b[1m \u001b[0m\u001b[1mcolumn_name              \u001b[0m\u001b[1m \u001b[0m┃\u001b[1m \u001b[0m\u001b[1mNA     \u001b[0m\u001b[1m \u001b[0m┃\u001b[1m \u001b[0m\u001b[1mNA %      \u001b[0m\u001b[1m \u001b[0m┃\u001b[1m \u001b[0m\u001b[1mwords per row               \u001b[0m\u001b[1m \u001b[0m┃\u001b[1m \u001b[0m\u001b[1mtotal words             \u001b[0m\u001b[1m \u001b[0m┃  │\n",
       "│ ┡━━━━━━━━━━━━━━━━━━━━━━━━━━━╇━━━━━━━━━╇━━━━━━━━━━━━╇━━━━━━━━━━━━━━━━━━━━━━━━━━━━━━╇━━━━━━━━━━━━━━━━━━━━━━━━━━┩  │\n",
       "│ │ \u001b[38;5;141mtext                     \u001b[0m │ \u001b[36m      6\u001b[0m │ \u001b[36m       0.6\u001b[0m │ \u001b[36m                         5.8\u001b[0m │ \u001b[36m                    5761\u001b[0m │  │\n",
       "│ └───────────────────────────┴─────────┴────────────┴──────────────────────────────┴──────────────────────────┘  │\n",
       "╰────────────────────────────────────────────────────── End ──────────────────────────────────────────────────────╯\n"
      ]
     },
     "metadata": {},
     "output_type": "display_data"
    }
   ],
   "source": [
    "from skimpy import skim\n",
    "from skimpy import generate_test_data\n",
    "from rich import print\n",
    "import pandas as pd\n",
    "\n",
    "df = generate_test_data()\n",
    "\n",
    "summary = skim(df, return_data=True)"
   ]
  },
  {
   "cell_type": "markdown",
   "metadata": {},
   "source": [
    "And the dictionary has contents as follows:"
   ]
  },
  {
   "cell_type": "code",
   "execution_count": 2,
   "metadata": {},
   "outputs": [
    {
     "data": {
      "text/html": [
       "<pre style=\"white-space:pre;overflow-x:auto;line-height:normal;font-family:Menlo,'DejaVu Sans Mono',consolas,'Courier New',monospace\"><span style=\"font-weight: bold\">{</span>\n",
       "    <span style=\"color: #008000; text-decoration-color: #008000\">'Data Summary'</span>: <span style=\"font-weight: bold\">{</span><span style=\"color: #008000; text-decoration-color: #008000\">'Number of rows'</span>: <span style=\"color: #008080; text-decoration-color: #008080; font-weight: bold\">1000</span>, <span style=\"color: #008000; text-decoration-color: #008000\">'Number of columns'</span>: <span style=\"color: #008080; text-decoration-color: #008080; font-weight: bold\">13</span><span style=\"font-weight: bold\">}</span>,\n",
       "    <span style=\"color: #008000; text-decoration-color: #008000\">'Data Types'</span>: <span style=\"font-weight: bold\">{</span>\n",
       "        <span style=\"color: #008000; text-decoration-color: #008000\">'float64'</span>: <span style=\"color: #008080; text-decoration-color: #008080; font-weight: bold\">3</span>,\n",
       "        <span style=\"color: #008000; text-decoration-color: #008000\">'category'</span>: <span style=\"color: #008080; text-decoration-color: #008080; font-weight: bold\">2</span>,\n",
       "        <span style=\"color: #008000; text-decoration-color: #008000\">'datetime64[ns]'</span>: <span style=\"color: #008080; text-decoration-color: #008080; font-weight: bold\">2</span>,\n",
       "        <span style=\"color: #008000; text-decoration-color: #008000\">'object'</span>: <span style=\"color: #008080; text-decoration-color: #008080; font-weight: bold\">2</span>,\n",
       "        <span style=\"color: #008000; text-decoration-color: #008000\">'int64'</span>: <span style=\"color: #008080; text-decoration-color: #008080; font-weight: bold\">1</span>,\n",
       "        <span style=\"color: #008000; text-decoration-color: #008000\">'bool'</span>: <span style=\"color: #008080; text-decoration-color: #008080; font-weight: bold\">1</span>,\n",
       "        <span style=\"color: #008000; text-decoration-color: #008000\">'string'</span>: <span style=\"color: #008080; text-decoration-color: #008080; font-weight: bold\">1</span>,\n",
       "        <span style=\"color: #008000; text-decoration-color: #008000\">'timedelta64[ns]'</span>: <span style=\"color: #008080; text-decoration-color: #008080; font-weight: bold\">1</span>\n",
       "    <span style=\"font-weight: bold\">}</span>,\n",
       "    <span style=\"color: #008000; text-decoration-color: #008000\">'Categories'</span>: <span style=\"font-weight: bold\">{</span><span style=\"color: #008000; text-decoration-color: #008000\">'Columns'</span>: <span style=\"font-weight: bold\">{</span><span style=\"color: #008000; text-decoration-color: #008000\">'location'</span>, <span style=\"color: #008000; text-decoration-color: #008000\">'class'</span><span style=\"font-weight: bold\">}}</span>,\n",
       "    <span style=\"color: #008000; text-decoration-color: #008000\">'number'</span>: <span style=\"font-weight: bold\">{</span>\n",
       "        <span style=\"color: #008000; text-decoration-color: #008000\">'NA'</span>: <span style=\"font-weight: bold\">{</span><span style=\"color: #008000; text-decoration-color: #008000\">'length'</span>: <span style=\"color: #008080; text-decoration-color: #008080; font-weight: bold\">0</span>, <span style=\"color: #008000; text-decoration-color: #008000\">'width'</span>: <span style=\"color: #008080; text-decoration-color: #008080; font-weight: bold\">0</span>, <span style=\"color: #008000; text-decoration-color: #008000\">'depth'</span>: <span style=\"color: #008080; text-decoration-color: #008080; font-weight: bold\">0</span>, <span style=\"color: #008000; text-decoration-color: #008000\">'rnd'</span>: <span style=\"color: #008080; text-decoration-color: #008080; font-weight: bold\">118</span><span style=\"font-weight: bold\">}</span>,\n",
       "        <span style=\"color: #008000; text-decoration-color: #008000\">'NA %'</span>: <span style=\"font-weight: bold\">{</span><span style=\"color: #008000; text-decoration-color: #008000\">'length'</span>: <span style=\"color: #008080; text-decoration-color: #008080; font-weight: bold\">0.0</span>, <span style=\"color: #008000; text-decoration-color: #008000\">'width'</span>: <span style=\"color: #008080; text-decoration-color: #008080; font-weight: bold\">0.0</span>, <span style=\"color: #008000; text-decoration-color: #008000\">'depth'</span>: <span style=\"color: #008080; text-decoration-color: #008080; font-weight: bold\">0.0</span>, <span style=\"color: #008000; text-decoration-color: #008000\">'rnd'</span>: <span style=\"color: #008080; text-decoration-color: #008080; font-weight: bold\">11.8</span><span style=\"font-weight: bold\">}</span>,\n",
       "        <span style=\"color: #008000; text-decoration-color: #008000\">'mean'</span>: <span style=\"font-weight: bold\">{</span><span style=\"color: #008000; text-decoration-color: #008000\">'length'</span>: <span style=\"color: #008080; text-decoration-color: #008080; font-weight: bold\">0.5</span>, <span style=\"color: #008000; text-decoration-color: #008000\">'width'</span>: <span style=\"color: #008080; text-decoration-color: #008080; font-weight: bold\">2.0</span>, <span style=\"color: #008000; text-decoration-color: #008000\">'depth'</span>: <span style=\"color: #008080; text-decoration-color: #008080; font-weight: bold\">10.0</span>, <span style=\"color: #008000; text-decoration-color: #008000\">'rnd'</span>: <span style=\"color: #008080; text-decoration-color: #008080; font-weight: bold\">-0.02</span><span style=\"font-weight: bold\">}</span>,\n",
       "        <span style=\"color: #008000; text-decoration-color: #008000\">'sd'</span>: <span style=\"font-weight: bold\">{</span><span style=\"color: #008000; text-decoration-color: #008000\">'length'</span>: <span style=\"color: #008080; text-decoration-color: #008080; font-weight: bold\">0.36</span>, <span style=\"color: #008000; text-decoration-color: #008000\">'width'</span>: <span style=\"color: #008080; text-decoration-color: #008080; font-weight: bold\">1.9</span>, <span style=\"color: #008000; text-decoration-color: #008000\">'depth'</span>: <span style=\"color: #008080; text-decoration-color: #008080; font-weight: bold\">3.2</span>, <span style=\"color: #008000; text-decoration-color: #008000\">'rnd'</span>: <span style=\"color: #008080; text-decoration-color: #008080; font-weight: bold\">1.0</span><span style=\"font-weight: bold\">}</span>,\n",
       "        <span style=\"color: #008000; text-decoration-color: #008000\">'p0'</span>: <span style=\"font-weight: bold\">{</span><span style=\"color: #008000; text-decoration-color: #008000\">'length'</span>: <span style=\"color: #008080; text-decoration-color: #008080; font-weight: bold\">1.6e-06</span>, <span style=\"color: #008000; text-decoration-color: #008000\">'width'</span>: <span style=\"color: #008080; text-decoration-color: #008080; font-weight: bold\">0.0021</span>, <span style=\"color: #008000; text-decoration-color: #008000\">'depth'</span>: <span style=\"color: #008080; text-decoration-color: #008080; font-weight: bold\">2.0</span>, <span style=\"color: #008000; text-decoration-color: #008000\">'rnd'</span>: <span style=\"color: #008080; text-decoration-color: #008080; font-weight: bold\">-2.8</span><span style=\"font-weight: bold\">}</span>,\n",
       "        <span style=\"color: #008000; text-decoration-color: #008000\">'p25'</span>: <span style=\"font-weight: bold\">{</span><span style=\"color: #008000; text-decoration-color: #008000\">'length'</span>: <span style=\"color: #008080; text-decoration-color: #008080; font-weight: bold\">0.13</span>, <span style=\"color: #008000; text-decoration-color: #008000\">'width'</span>: <span style=\"color: #008080; text-decoration-color: #008080; font-weight: bold\">0.6</span>, <span style=\"color: #008000; text-decoration-color: #008000\">'depth'</span>: <span style=\"color: #008080; text-decoration-color: #008080; font-weight: bold\">8.0</span>, <span style=\"color: #008000; text-decoration-color: #008000\">'rnd'</span>: <span style=\"color: #008080; text-decoration-color: #008080; font-weight: bold\">-0.74</span><span style=\"font-weight: bold\">}</span>,\n",
       "        <span style=\"color: #008000; text-decoration-color: #008000\">'p50'</span>: <span style=\"font-weight: bold\">{</span><span style=\"color: #008000; text-decoration-color: #008000\">'length'</span>: <span style=\"color: #008080; text-decoration-color: #008080; font-weight: bold\">0.5</span>, <span style=\"color: #008000; text-decoration-color: #008000\">'width'</span>: <span style=\"color: #008080; text-decoration-color: #008080; font-weight: bold\">1.5</span>, <span style=\"color: #008000; text-decoration-color: #008000\">'depth'</span>: <span style=\"color: #008080; text-decoration-color: #008080; font-weight: bold\">10.0</span>, <span style=\"color: #008000; text-decoration-color: #008000\">'rnd'</span>: <span style=\"color: #008080; text-decoration-color: #008080; font-weight: bold\">-0.00077</span><span style=\"font-weight: bold\">}</span>,\n",
       "        <span style=\"color: #008000; text-decoration-color: #008000\">'p75'</span>: <span style=\"font-weight: bold\">{</span><span style=\"color: #008000; text-decoration-color: #008000\">'length'</span>: <span style=\"color: #008080; text-decoration-color: #008080; font-weight: bold\">0.86</span>, <span style=\"color: #008000; text-decoration-color: #008000\">'width'</span>: <span style=\"color: #008080; text-decoration-color: #008080; font-weight: bold\">3.0</span>, <span style=\"color: #008000; text-decoration-color: #008000\">'depth'</span>: <span style=\"color: #008080; text-decoration-color: #008080; font-weight: bold\">12.0</span>, <span style=\"color: #008000; text-decoration-color: #008000\">'rnd'</span>: <span style=\"color: #008080; text-decoration-color: #008080; font-weight: bold\">0.66</span><span style=\"font-weight: bold\">}</span>,\n",
       "        <span style=\"color: #008000; text-decoration-color: #008000\">'p100'</span>: <span style=\"font-weight: bold\">{</span><span style=\"color: #008000; text-decoration-color: #008000\">'length'</span>: <span style=\"color: #008080; text-decoration-color: #008080; font-weight: bold\">1.0</span>, <span style=\"color: #008000; text-decoration-color: #008000\">'width'</span>: <span style=\"color: #008080; text-decoration-color: #008080; font-weight: bold\">14.0</span>, <span style=\"color: #008000; text-decoration-color: #008000\">'depth'</span>: <span style=\"color: #008080; text-decoration-color: #008080; font-weight: bold\">20.0</span>, <span style=\"color: #008000; text-decoration-color: #008000\">'rnd'</span>: <span style=\"color: #008080; text-decoration-color: #008080; font-weight: bold\">3.7</span><span style=\"font-weight: bold\">}</span>,\n",
       "        <span style=\"color: #008000; text-decoration-color: #008000\">'hist'</span>: <span style=\"font-weight: bold\">{</span><span style=\"color: #008000; text-decoration-color: #008000\">'length'</span>: <span style=\"color: #008000; text-decoration-color: #008000\">'▇▃▃▃▅▇'</span>, <span style=\"color: #008000; text-decoration-color: #008000\">'width'</span>: <span style=\"color: #008000; text-decoration-color: #008000\">'▇▃▁   '</span>, <span style=\"color: #008000; text-decoration-color: #008000\">'depth'</span>: <span style=\"color: #008000; text-decoration-color: #008000\">'▁▃▇▆▃▁'</span>, <span style=\"color: #008000; text-decoration-color: #008000\">'rnd'</span>: <span style=\"color: #008000; text-decoration-color: #008000\">'▁▅▇▅▁ '</span><span style=\"font-weight: bold\">}</span>\n",
       "    <span style=\"font-weight: bold\">}</span>,\n",
       "    <span style=\"color: #008000; text-decoration-color: #008000\">'category'</span>: <span style=\"font-weight: bold\">{</span>\n",
       "        <span style=\"color: #008000; text-decoration-color: #008000\">'NA'</span>: <span style=\"font-weight: bold\">{</span><span style=\"color: #008000; text-decoration-color: #008000\">'class'</span>: <span style=\"color: #008080; text-decoration-color: #008080; font-weight: bold\">0</span>, <span style=\"color: #008000; text-decoration-color: #008000\">'location'</span>: <span style=\"color: #008080; text-decoration-color: #008080; font-weight: bold\">1</span><span style=\"font-weight: bold\">}</span>,\n",
       "        <span style=\"color: #008000; text-decoration-color: #008000\">'NA %'</span>: <span style=\"font-weight: bold\">{</span><span style=\"color: #008000; text-decoration-color: #008000\">'class'</span>: <span style=\"color: #008080; text-decoration-color: #008080; font-weight: bold\">0.0</span>, <span style=\"color: #008000; text-decoration-color: #008000\">'location'</span>: <span style=\"color: #008080; text-decoration-color: #008080; font-weight: bold\">0.1</span><span style=\"font-weight: bold\">}</span>,\n",
       "        <span style=\"color: #008000; text-decoration-color: #008000\">'ordered'</span>: <span style=\"font-weight: bold\">{</span><span style=\"color: #008000; text-decoration-color: #008000\">'class'</span>: <span style=\"color: #ff0000; text-decoration-color: #ff0000; font-style: italic\">False</span>, <span style=\"color: #008000; text-decoration-color: #008000\">'location'</span>: <span style=\"color: #ff0000; text-decoration-color: #ff0000; font-style: italic\">False</span><span style=\"font-weight: bold\">}</span>,\n",
       "        <span style=\"color: #008000; text-decoration-color: #008000\">'unique'</span>: <span style=\"font-weight: bold\">{</span><span style=\"color: #008000; text-decoration-color: #008000\">'class'</span>: <span style=\"color: #008080; text-decoration-color: #008080; font-weight: bold\">2</span>, <span style=\"color: #008000; text-decoration-color: #008000\">'location'</span>: <span style=\"color: #008080; text-decoration-color: #008080; font-weight: bold\">5</span><span style=\"font-weight: bold\">}</span>\n",
       "    <span style=\"font-weight: bold\">}</span>,\n",
       "    <span style=\"color: #008000; text-decoration-color: #008000\">'bool'</span>: <span style=\"font-weight: bold\">{</span><span style=\"color: #008000; text-decoration-color: #008000\">'true'</span>: <span style=\"font-weight: bold\">{</span><span style=\"color: #008000; text-decoration-color: #008000\">'booly_col'</span>: <span style=\"color: #008080; text-decoration-color: #008080; font-weight: bold\">516</span><span style=\"font-weight: bold\">}</span>, <span style=\"color: #008000; text-decoration-color: #008000\">'true rate'</span>: <span style=\"font-weight: bold\">{</span><span style=\"color: #008000; text-decoration-color: #008000\">'booly_col'</span>: <span style=\"color: #008080; text-decoration-color: #008080; font-weight: bold\">0.52</span><span style=\"font-weight: bold\">}</span>, <span style=\"color: #008000; text-decoration-color: #008000\">'hist'</span>: <span style=\"font-weight: bold\">{</span><span style=\"color: #008000; text-decoration-color: #008000\">'booly_col'</span>: <span style=\"color: #008000; text-decoration-color: #008000\">'▇    ▇'</span><span style=\"font-weight: bold\">}}</span>,\n",
       "    <span style=\"color: #008000; text-decoration-color: #008000\">'datetime'</span>: <span style=\"font-weight: bold\">{</span>\n",
       "        <span style=\"color: #008000; text-decoration-color: #008000\">'NA'</span>: <span style=\"font-weight: bold\">{</span><span style=\"color: #008000; text-decoration-color: #008000\">'datetime'</span>: <span style=\"color: #008080; text-decoration-color: #008080; font-weight: bold\">0</span>, <span style=\"color: #008000; text-decoration-color: #008000\">'datetime_no_freq'</span>: <span style=\"color: #008080; text-decoration-color: #008080; font-weight: bold\">3</span><span style=\"font-weight: bold\">}</span>,\n",
       "        <span style=\"color: #008000; text-decoration-color: #008000\">'NA %'</span>: <span style=\"font-weight: bold\">{</span><span style=\"color: #008000; text-decoration-color: #008000\">'datetime'</span>: <span style=\"color: #008080; text-decoration-color: #008080; font-weight: bold\">0.0</span>, <span style=\"color: #008000; text-decoration-color: #008000\">'datetime_no_freq'</span>: <span style=\"color: #008080; text-decoration-color: #008080; font-weight: bold\">0.3</span><span style=\"font-weight: bold\">}</span>,\n",
       "        <span style=\"color: #008000; text-decoration-color: #008000\">'first'</span>: <span style=\"font-weight: bold\">{</span>\n",
       "            <span style=\"color: #008000; text-decoration-color: #008000\">'datetime'</span>: <span style=\"color: #800080; text-decoration-color: #800080; font-weight: bold\">Timestamp</span><span style=\"font-weight: bold\">(</span><span style=\"color: #008000; text-decoration-color: #008000\">'2018-01-31 00:00:00'</span><span style=\"font-weight: bold\">)</span>,\n",
       "            <span style=\"color: #008000; text-decoration-color: #008000\">'datetime_no_freq'</span>: <span style=\"color: #800080; text-decoration-color: #800080; font-weight: bold\">Timestamp</span><span style=\"font-weight: bold\">(</span><span style=\"color: #008000; text-decoration-color: #008000\">'1992-01-05 00:00:00'</span><span style=\"font-weight: bold\">)</span>\n",
       "        <span style=\"font-weight: bold\">}</span>,\n",
       "        <span style=\"color: #008000; text-decoration-color: #008000\">'last'</span>: <span style=\"font-weight: bold\">{</span>\n",
       "            <span style=\"color: #008000; text-decoration-color: #008000\">'datetime'</span>: <span style=\"color: #800080; text-decoration-color: #800080; font-weight: bold\">Timestamp</span><span style=\"font-weight: bold\">(</span><span style=\"color: #008000; text-decoration-color: #008000\">'2101-04-30 00:00:00'</span><span style=\"font-weight: bold\">)</span>,\n",
       "            <span style=\"color: #008000; text-decoration-color: #008000\">'datetime_no_freq'</span>: <span style=\"color: #800080; text-decoration-color: #800080; font-weight: bold\">Timestamp</span><span style=\"font-weight: bold\">(</span><span style=\"color: #008000; text-decoration-color: #008000\">'2023-03-04 00:00:00'</span><span style=\"font-weight: bold\">)</span>\n",
       "        <span style=\"font-weight: bold\">}</span>,\n",
       "        <span style=\"color: #008000; text-decoration-color: #008000\">'frequency'</span>: <span style=\"font-weight: bold\">{</span><span style=\"color: #008000; text-decoration-color: #008000\">'datetime'</span>: <span style=\"color: #008000; text-decoration-color: #008000\">'M'</span>, <span style=\"color: #008000; text-decoration-color: #008000\">'datetime_no_freq'</span>: <span style=\"color: #800080; text-decoration-color: #800080; font-style: italic\">None</span><span style=\"font-weight: bold\">}</span>\n",
       "    <span style=\"font-weight: bold\">}</span>,\n",
       "    <span style=\"color: #008000; text-decoration-color: #008000\">\"&lt;class 'datetime.date'&gt;\"</span>: <span style=\"font-weight: bold\">{</span>\n",
       "        <span style=\"color: #008000; text-decoration-color: #008000\">'NA'</span>: <span style=\"font-weight: bold\">{</span><span style=\"color: #008000; text-decoration-color: #008000\">'datetime.date'</span>: <span style=\"color: #008080; text-decoration-color: #008080; font-weight: bold\">0</span>, <span style=\"color: #008000; text-decoration-color: #008000\">'datetime.date_no_freq'</span>: <span style=\"color: #008080; text-decoration-color: #008080; font-weight: bold\">0</span><span style=\"font-weight: bold\">}</span>,\n",
       "        <span style=\"color: #008000; text-decoration-color: #008000\">'NA %'</span>: <span style=\"font-weight: bold\">{</span><span style=\"color: #008000; text-decoration-color: #008000\">'datetime.date'</span>: <span style=\"color: #008080; text-decoration-color: #008080; font-weight: bold\">0.0</span>, <span style=\"color: #008000; text-decoration-color: #008000\">'datetime.date_no_freq'</span>: <span style=\"color: #008080; text-decoration-color: #008080; font-weight: bold\">0.0</span><span style=\"font-weight: bold\">}</span>,\n",
       "        <span style=\"color: #008000; text-decoration-color: #008000\">'first'</span>: <span style=\"font-weight: bold\">{</span>\n",
       "            <span style=\"color: #008000; text-decoration-color: #008000\">'datetime.date'</span>: <span style=\"color: #800080; text-decoration-color: #800080; font-weight: bold\">datetime.date</span><span style=\"font-weight: bold\">(</span><span style=\"color: #008080; text-decoration-color: #008080; font-weight: bold\">2018</span>, <span style=\"color: #008080; text-decoration-color: #008080; font-weight: bold\">1</span>, <span style=\"color: #008080; text-decoration-color: #008080; font-weight: bold\">31</span><span style=\"font-weight: bold\">)</span>,\n",
       "            <span style=\"color: #008000; text-decoration-color: #008000\">'datetime.date_no_freq'</span>: <span style=\"color: #800080; text-decoration-color: #800080; font-weight: bold\">datetime.date</span><span style=\"font-weight: bold\">(</span><span style=\"color: #008080; text-decoration-color: #008080; font-weight: bold\">1992</span>, <span style=\"color: #008080; text-decoration-color: #008080; font-weight: bold\">1</span>, <span style=\"color: #008080; text-decoration-color: #008080; font-weight: bold\">5</span><span style=\"font-weight: bold\">)</span>\n",
       "        <span style=\"font-weight: bold\">}</span>,\n",
       "        <span style=\"color: #008000; text-decoration-color: #008000\">'last'</span>: <span style=\"font-weight: bold\">{</span><span style=\"color: #008000; text-decoration-color: #008000\">'datetime.date'</span>: <span style=\"color: #800080; text-decoration-color: #800080; font-weight: bold\">datetime.date</span><span style=\"font-weight: bold\">(</span><span style=\"color: #008080; text-decoration-color: #008080; font-weight: bold\">2101</span>, <span style=\"color: #008080; text-decoration-color: #008080; font-weight: bold\">4</span>, <span style=\"color: #008080; text-decoration-color: #008080; font-weight: bold\">30</span><span style=\"font-weight: bold\">)</span>, <span style=\"color: #008000; text-decoration-color: #008000\">'datetime.date_no_freq'</span>: <span style=\"color: #800080; text-decoration-color: #800080; font-weight: bold\">datetime.date</span><span style=\"font-weight: bold\">(</span><span style=\"color: #008080; text-decoration-color: #008080; font-weight: bold\">2023</span>, <span style=\"color: #008080; text-decoration-color: #008080; font-weight: bold\">3</span>, <span style=\"color: #008080; text-decoration-color: #008080; font-weight: bold\">4</span><span style=\"font-weight: bold\">)}</span>,\n",
       "        <span style=\"color: #008000; text-decoration-color: #008000\">'frequency'</span>: <span style=\"font-weight: bold\">{</span><span style=\"color: #008000; text-decoration-color: #008000\">'datetime.date'</span>: <span style=\"color: #008000; text-decoration-color: #008000\">'M'</span>, <span style=\"color: #008000; text-decoration-color: #008000\">'datetime.date_no_freq'</span>: <span style=\"color: #800080; text-decoration-color: #800080; font-style: italic\">None</span><span style=\"font-weight: bold\">}</span>\n",
       "    <span style=\"font-weight: bold\">}</span>,\n",
       "    <span style=\"color: #008000; text-decoration-color: #008000\">'timedelta64[ns]'</span>: <span style=\"font-weight: bold\">{</span>\n",
       "        <span style=\"color: #008000; text-decoration-color: #008000\">'NA'</span>: <span style=\"font-weight: bold\">{</span><span style=\"color: #008000; text-decoration-color: #008000\">'time diff'</span>: <span style=\"color: #008080; text-decoration-color: #008080; font-weight: bold\">5</span><span style=\"font-weight: bold\">}</span>,\n",
       "        <span style=\"color: #008000; text-decoration-color: #008000\">'NA %'</span>: <span style=\"font-weight: bold\">{</span><span style=\"color: #008000; text-decoration-color: #008000\">'time diff'</span>: <span style=\"color: #008080; text-decoration-color: #008080; font-weight: bold\">0.5</span><span style=\"font-weight: bold\">}</span>,\n",
       "        <span style=\"color: #008000; text-decoration-color: #008000\">'mean'</span>: <span style=\"font-weight: bold\">{</span><span style=\"color: #008000; text-decoration-color: #008000\">'time diff'</span>: <span style=\"color: #800080; text-decoration-color: #800080; font-weight: bold\">Timedelta</span><span style=\"font-weight: bold\">(</span><span style=\"color: #008000; text-decoration-color: #008000\">'8 days 00:05:47'</span><span style=\"font-weight: bold\">)}</span>,\n",
       "        <span style=\"color: #008000; text-decoration-color: #008000\">'median'</span>: <span style=\"font-weight: bold\">{</span><span style=\"color: #008000; text-decoration-color: #008000\">'time diff'</span>: <span style=\"color: #800080; text-decoration-color: #800080; font-weight: bold\">Timedelta</span><span style=\"font-weight: bold\">(</span><span style=\"color: #008000; text-decoration-color: #008000\">'0 days 00:00:00'</span><span style=\"font-weight: bold\">)}</span>,\n",
       "        <span style=\"color: #008000; text-decoration-color: #008000\">'max'</span>: <span style=\"font-weight: bold\">{</span><span style=\"color: #008000; text-decoration-color: #008000\">'time diff'</span>: <span style=\"color: #800080; text-decoration-color: #800080; font-weight: bold\">Timedelta</span><span style=\"font-weight: bold\">(</span><span style=\"color: #008000; text-decoration-color: #008000\">'26 days 00:00:00'</span><span style=\"font-weight: bold\">)}</span>\n",
       "    <span style=\"font-weight: bold\">}</span>,\n",
       "    <span style=\"color: #008000; text-decoration-color: #008000\">'string'</span>: <span style=\"font-weight: bold\">{</span>\n",
       "        <span style=\"color: #008000; text-decoration-color: #008000\">'NA'</span>: <span style=\"font-weight: bold\">{</span><span style=\"color: #008000; text-decoration-color: #008000\">'text'</span>: <span style=\"color: #008080; text-decoration-color: #008080; font-weight: bold\">6</span><span style=\"font-weight: bold\">}</span>,\n",
       "        <span style=\"color: #008000; text-decoration-color: #008000\">'NA %'</span>: <span style=\"font-weight: bold\">{</span><span style=\"color: #008000; text-decoration-color: #008000\">'text'</span>: <span style=\"color: #008080; text-decoration-color: #008080; font-weight: bold\">0.6</span><span style=\"font-weight: bold\">}</span>,\n",
       "        <span style=\"color: #008000; text-decoration-color: #008000\">'words per row'</span>: <span style=\"font-weight: bold\">{</span><span style=\"color: #008000; text-decoration-color: #008000\">'text'</span>: <span style=\"color: #008080; text-decoration-color: #008080; font-weight: bold\">5.8</span><span style=\"font-weight: bold\">}</span>,\n",
       "        <span style=\"color: #008000; text-decoration-color: #008000\">'total words'</span>: <span style=\"font-weight: bold\">{</span><span style=\"color: #008000; text-decoration-color: #008000\">'text'</span>: <span style=\"color: #008080; text-decoration-color: #008080; font-weight: bold\">5761</span><span style=\"font-weight: bold\">}</span>\n",
       "    <span style=\"font-weight: bold\">}</span>\n",
       "<span style=\"font-weight: bold\">}</span>\n",
       "</pre>\n"
      ],
      "text/plain": [
       "\u001b[1m{\u001b[0m\n",
       "    \u001b[32m'Data Summary'\u001b[0m: \u001b[1m{\u001b[0m\u001b[32m'Number of rows'\u001b[0m: \u001b[1;36m1000\u001b[0m, \u001b[32m'Number of columns'\u001b[0m: \u001b[1;36m13\u001b[0m\u001b[1m}\u001b[0m,\n",
       "    \u001b[32m'Data Types'\u001b[0m: \u001b[1m{\u001b[0m\n",
       "        \u001b[32m'float64'\u001b[0m: \u001b[1;36m3\u001b[0m,\n",
       "        \u001b[32m'category'\u001b[0m: \u001b[1;36m2\u001b[0m,\n",
       "        \u001b[32m'datetime64\u001b[0m\u001b[32m[\u001b[0m\u001b[32mns\u001b[0m\u001b[32m]\u001b[0m\u001b[32m'\u001b[0m: \u001b[1;36m2\u001b[0m,\n",
       "        \u001b[32m'object'\u001b[0m: \u001b[1;36m2\u001b[0m,\n",
       "        \u001b[32m'int64'\u001b[0m: \u001b[1;36m1\u001b[0m,\n",
       "        \u001b[32m'bool'\u001b[0m: \u001b[1;36m1\u001b[0m,\n",
       "        \u001b[32m'string'\u001b[0m: \u001b[1;36m1\u001b[0m,\n",
       "        \u001b[32m'timedelta64\u001b[0m\u001b[32m[\u001b[0m\u001b[32mns\u001b[0m\u001b[32m]\u001b[0m\u001b[32m'\u001b[0m: \u001b[1;36m1\u001b[0m\n",
       "    \u001b[1m}\u001b[0m,\n",
       "    \u001b[32m'Categories'\u001b[0m: \u001b[1m{\u001b[0m\u001b[32m'Columns'\u001b[0m: \u001b[1m{\u001b[0m\u001b[32m'location'\u001b[0m, \u001b[32m'class'\u001b[0m\u001b[1m}\u001b[0m\u001b[1m}\u001b[0m,\n",
       "    \u001b[32m'number'\u001b[0m: \u001b[1m{\u001b[0m\n",
       "        \u001b[32m'NA'\u001b[0m: \u001b[1m{\u001b[0m\u001b[32m'length'\u001b[0m: \u001b[1;36m0\u001b[0m, \u001b[32m'width'\u001b[0m: \u001b[1;36m0\u001b[0m, \u001b[32m'depth'\u001b[0m: \u001b[1;36m0\u001b[0m, \u001b[32m'rnd'\u001b[0m: \u001b[1;36m118\u001b[0m\u001b[1m}\u001b[0m,\n",
       "        \u001b[32m'NA %'\u001b[0m: \u001b[1m{\u001b[0m\u001b[32m'length'\u001b[0m: \u001b[1;36m0.0\u001b[0m, \u001b[32m'width'\u001b[0m: \u001b[1;36m0.0\u001b[0m, \u001b[32m'depth'\u001b[0m: \u001b[1;36m0.0\u001b[0m, \u001b[32m'rnd'\u001b[0m: \u001b[1;36m11.8\u001b[0m\u001b[1m}\u001b[0m,\n",
       "        \u001b[32m'mean'\u001b[0m: \u001b[1m{\u001b[0m\u001b[32m'length'\u001b[0m: \u001b[1;36m0.5\u001b[0m, \u001b[32m'width'\u001b[0m: \u001b[1;36m2.0\u001b[0m, \u001b[32m'depth'\u001b[0m: \u001b[1;36m10.0\u001b[0m, \u001b[32m'rnd'\u001b[0m: \u001b[1;36m-0.02\u001b[0m\u001b[1m}\u001b[0m,\n",
       "        \u001b[32m'sd'\u001b[0m: \u001b[1m{\u001b[0m\u001b[32m'length'\u001b[0m: \u001b[1;36m0.36\u001b[0m, \u001b[32m'width'\u001b[0m: \u001b[1;36m1.9\u001b[0m, \u001b[32m'depth'\u001b[0m: \u001b[1;36m3.2\u001b[0m, \u001b[32m'rnd'\u001b[0m: \u001b[1;36m1.0\u001b[0m\u001b[1m}\u001b[0m,\n",
       "        \u001b[32m'p0'\u001b[0m: \u001b[1m{\u001b[0m\u001b[32m'length'\u001b[0m: \u001b[1;36m1.6e-06\u001b[0m, \u001b[32m'width'\u001b[0m: \u001b[1;36m0.0021\u001b[0m, \u001b[32m'depth'\u001b[0m: \u001b[1;36m2.0\u001b[0m, \u001b[32m'rnd'\u001b[0m: \u001b[1;36m-2.8\u001b[0m\u001b[1m}\u001b[0m,\n",
       "        \u001b[32m'p25'\u001b[0m: \u001b[1m{\u001b[0m\u001b[32m'length'\u001b[0m: \u001b[1;36m0.13\u001b[0m, \u001b[32m'width'\u001b[0m: \u001b[1;36m0.6\u001b[0m, \u001b[32m'depth'\u001b[0m: \u001b[1;36m8.0\u001b[0m, \u001b[32m'rnd'\u001b[0m: \u001b[1;36m-0.74\u001b[0m\u001b[1m}\u001b[0m,\n",
       "        \u001b[32m'p50'\u001b[0m: \u001b[1m{\u001b[0m\u001b[32m'length'\u001b[0m: \u001b[1;36m0.5\u001b[0m, \u001b[32m'width'\u001b[0m: \u001b[1;36m1.5\u001b[0m, \u001b[32m'depth'\u001b[0m: \u001b[1;36m10.0\u001b[0m, \u001b[32m'rnd'\u001b[0m: \u001b[1;36m-0.00077\u001b[0m\u001b[1m}\u001b[0m,\n",
       "        \u001b[32m'p75'\u001b[0m: \u001b[1m{\u001b[0m\u001b[32m'length'\u001b[0m: \u001b[1;36m0.86\u001b[0m, \u001b[32m'width'\u001b[0m: \u001b[1;36m3.0\u001b[0m, \u001b[32m'depth'\u001b[0m: \u001b[1;36m12.0\u001b[0m, \u001b[32m'rnd'\u001b[0m: \u001b[1;36m0.66\u001b[0m\u001b[1m}\u001b[0m,\n",
       "        \u001b[32m'p100'\u001b[0m: \u001b[1m{\u001b[0m\u001b[32m'length'\u001b[0m: \u001b[1;36m1.0\u001b[0m, \u001b[32m'width'\u001b[0m: \u001b[1;36m14.0\u001b[0m, \u001b[32m'depth'\u001b[0m: \u001b[1;36m20.0\u001b[0m, \u001b[32m'rnd'\u001b[0m: \u001b[1;36m3.7\u001b[0m\u001b[1m}\u001b[0m,\n",
       "        \u001b[32m'hist'\u001b[0m: \u001b[1m{\u001b[0m\u001b[32m'length'\u001b[0m: \u001b[32m'▇▃▃▃▅▇'\u001b[0m, \u001b[32m'width'\u001b[0m: \u001b[32m'▇▃▁   '\u001b[0m, \u001b[32m'depth'\u001b[0m: \u001b[32m'▁▃▇▆▃▁'\u001b[0m, \u001b[32m'rnd'\u001b[0m: \u001b[32m'▁▅▇▅▁ '\u001b[0m\u001b[1m}\u001b[0m\n",
       "    \u001b[1m}\u001b[0m,\n",
       "    \u001b[32m'category'\u001b[0m: \u001b[1m{\u001b[0m\n",
       "        \u001b[32m'NA'\u001b[0m: \u001b[1m{\u001b[0m\u001b[32m'class'\u001b[0m: \u001b[1;36m0\u001b[0m, \u001b[32m'location'\u001b[0m: \u001b[1;36m1\u001b[0m\u001b[1m}\u001b[0m,\n",
       "        \u001b[32m'NA %'\u001b[0m: \u001b[1m{\u001b[0m\u001b[32m'class'\u001b[0m: \u001b[1;36m0.0\u001b[0m, \u001b[32m'location'\u001b[0m: \u001b[1;36m0.1\u001b[0m\u001b[1m}\u001b[0m,\n",
       "        \u001b[32m'ordered'\u001b[0m: \u001b[1m{\u001b[0m\u001b[32m'class'\u001b[0m: \u001b[3;91mFalse\u001b[0m, \u001b[32m'location'\u001b[0m: \u001b[3;91mFalse\u001b[0m\u001b[1m}\u001b[0m,\n",
       "        \u001b[32m'unique'\u001b[0m: \u001b[1m{\u001b[0m\u001b[32m'class'\u001b[0m: \u001b[1;36m2\u001b[0m, \u001b[32m'location'\u001b[0m: \u001b[1;36m5\u001b[0m\u001b[1m}\u001b[0m\n",
       "    \u001b[1m}\u001b[0m,\n",
       "    \u001b[32m'bool'\u001b[0m: \u001b[1m{\u001b[0m\u001b[32m'true'\u001b[0m: \u001b[1m{\u001b[0m\u001b[32m'booly_col'\u001b[0m: \u001b[1;36m516\u001b[0m\u001b[1m}\u001b[0m, \u001b[32m'true rate'\u001b[0m: \u001b[1m{\u001b[0m\u001b[32m'booly_col'\u001b[0m: \u001b[1;36m0.52\u001b[0m\u001b[1m}\u001b[0m, \u001b[32m'hist'\u001b[0m: \u001b[1m{\u001b[0m\u001b[32m'booly_col'\u001b[0m: \u001b[32m'▇    ▇'\u001b[0m\u001b[1m}\u001b[0m\u001b[1m}\u001b[0m,\n",
       "    \u001b[32m'datetime'\u001b[0m: \u001b[1m{\u001b[0m\n",
       "        \u001b[32m'NA'\u001b[0m: \u001b[1m{\u001b[0m\u001b[32m'datetime'\u001b[0m: \u001b[1;36m0\u001b[0m, \u001b[32m'datetime_no_freq'\u001b[0m: \u001b[1;36m3\u001b[0m\u001b[1m}\u001b[0m,\n",
       "        \u001b[32m'NA %'\u001b[0m: \u001b[1m{\u001b[0m\u001b[32m'datetime'\u001b[0m: \u001b[1;36m0.0\u001b[0m, \u001b[32m'datetime_no_freq'\u001b[0m: \u001b[1;36m0.3\u001b[0m\u001b[1m}\u001b[0m,\n",
       "        \u001b[32m'first'\u001b[0m: \u001b[1m{\u001b[0m\n",
       "            \u001b[32m'datetime'\u001b[0m: \u001b[1;35mTimestamp\u001b[0m\u001b[1m(\u001b[0m\u001b[32m'2018-01-31 00:00:00'\u001b[0m\u001b[1m)\u001b[0m,\n",
       "            \u001b[32m'datetime_no_freq'\u001b[0m: \u001b[1;35mTimestamp\u001b[0m\u001b[1m(\u001b[0m\u001b[32m'1992-01-05 00:00:00'\u001b[0m\u001b[1m)\u001b[0m\n",
       "        \u001b[1m}\u001b[0m,\n",
       "        \u001b[32m'last'\u001b[0m: \u001b[1m{\u001b[0m\n",
       "            \u001b[32m'datetime'\u001b[0m: \u001b[1;35mTimestamp\u001b[0m\u001b[1m(\u001b[0m\u001b[32m'2101-04-30 00:00:00'\u001b[0m\u001b[1m)\u001b[0m,\n",
       "            \u001b[32m'datetime_no_freq'\u001b[0m: \u001b[1;35mTimestamp\u001b[0m\u001b[1m(\u001b[0m\u001b[32m'2023-03-04 00:00:00'\u001b[0m\u001b[1m)\u001b[0m\n",
       "        \u001b[1m}\u001b[0m,\n",
       "        \u001b[32m'frequency'\u001b[0m: \u001b[1m{\u001b[0m\u001b[32m'datetime'\u001b[0m: \u001b[32m'M'\u001b[0m, \u001b[32m'datetime_no_freq'\u001b[0m: \u001b[3;35mNone\u001b[0m\u001b[1m}\u001b[0m\n",
       "    \u001b[1m}\u001b[0m,\n",
       "    \u001b[32m\"\u001b[0m\u001b[32m<\u001b[0m\u001b[32mclass\u001b[0m\u001b[32m 'datetime.date'\u001b[0m\u001b[32m>\u001b[0m\u001b[32m\"\u001b[0m: \u001b[1m{\u001b[0m\n",
       "        \u001b[32m'NA'\u001b[0m: \u001b[1m{\u001b[0m\u001b[32m'datetime.date'\u001b[0m: \u001b[1;36m0\u001b[0m, \u001b[32m'datetime.date_no_freq'\u001b[0m: \u001b[1;36m0\u001b[0m\u001b[1m}\u001b[0m,\n",
       "        \u001b[32m'NA %'\u001b[0m: \u001b[1m{\u001b[0m\u001b[32m'datetime.date'\u001b[0m: \u001b[1;36m0.0\u001b[0m, \u001b[32m'datetime.date_no_freq'\u001b[0m: \u001b[1;36m0.0\u001b[0m\u001b[1m}\u001b[0m,\n",
       "        \u001b[32m'first'\u001b[0m: \u001b[1m{\u001b[0m\n",
       "            \u001b[32m'datetime.date'\u001b[0m: \u001b[1;35mdatetime.date\u001b[0m\u001b[1m(\u001b[0m\u001b[1;36m2018\u001b[0m, \u001b[1;36m1\u001b[0m, \u001b[1;36m31\u001b[0m\u001b[1m)\u001b[0m,\n",
       "            \u001b[32m'datetime.date_no_freq'\u001b[0m: \u001b[1;35mdatetime.date\u001b[0m\u001b[1m(\u001b[0m\u001b[1;36m1992\u001b[0m, \u001b[1;36m1\u001b[0m, \u001b[1;36m5\u001b[0m\u001b[1m)\u001b[0m\n",
       "        \u001b[1m}\u001b[0m,\n",
       "        \u001b[32m'last'\u001b[0m: \u001b[1m{\u001b[0m\u001b[32m'datetime.date'\u001b[0m: \u001b[1;35mdatetime.date\u001b[0m\u001b[1m(\u001b[0m\u001b[1;36m2101\u001b[0m, \u001b[1;36m4\u001b[0m, \u001b[1;36m30\u001b[0m\u001b[1m)\u001b[0m, \u001b[32m'datetime.date_no_freq'\u001b[0m: \u001b[1;35mdatetime.date\u001b[0m\u001b[1m(\u001b[0m\u001b[1;36m2023\u001b[0m, \u001b[1;36m3\u001b[0m, \u001b[1;36m4\u001b[0m\u001b[1m)\u001b[0m\u001b[1m}\u001b[0m,\n",
       "        \u001b[32m'frequency'\u001b[0m: \u001b[1m{\u001b[0m\u001b[32m'datetime.date'\u001b[0m: \u001b[32m'M'\u001b[0m, \u001b[32m'datetime.date_no_freq'\u001b[0m: \u001b[3;35mNone\u001b[0m\u001b[1m}\u001b[0m\n",
       "    \u001b[1m}\u001b[0m,\n",
       "    \u001b[32m'timedelta64\u001b[0m\u001b[32m[\u001b[0m\u001b[32mns\u001b[0m\u001b[32m]\u001b[0m\u001b[32m'\u001b[0m: \u001b[1m{\u001b[0m\n",
       "        \u001b[32m'NA'\u001b[0m: \u001b[1m{\u001b[0m\u001b[32m'time diff'\u001b[0m: \u001b[1;36m5\u001b[0m\u001b[1m}\u001b[0m,\n",
       "        \u001b[32m'NA %'\u001b[0m: \u001b[1m{\u001b[0m\u001b[32m'time diff'\u001b[0m: \u001b[1;36m0.5\u001b[0m\u001b[1m}\u001b[0m,\n",
       "        \u001b[32m'mean'\u001b[0m: \u001b[1m{\u001b[0m\u001b[32m'time diff'\u001b[0m: \u001b[1;35mTimedelta\u001b[0m\u001b[1m(\u001b[0m\u001b[32m'8 days 00:05:47'\u001b[0m\u001b[1m)\u001b[0m\u001b[1m}\u001b[0m,\n",
       "        \u001b[32m'median'\u001b[0m: \u001b[1m{\u001b[0m\u001b[32m'time diff'\u001b[0m: \u001b[1;35mTimedelta\u001b[0m\u001b[1m(\u001b[0m\u001b[32m'0 days 00:00:00'\u001b[0m\u001b[1m)\u001b[0m\u001b[1m}\u001b[0m,\n",
       "        \u001b[32m'max'\u001b[0m: \u001b[1m{\u001b[0m\u001b[32m'time diff'\u001b[0m: \u001b[1;35mTimedelta\u001b[0m\u001b[1m(\u001b[0m\u001b[32m'26 days 00:00:00'\u001b[0m\u001b[1m)\u001b[0m\u001b[1m}\u001b[0m\n",
       "    \u001b[1m}\u001b[0m,\n",
       "    \u001b[32m'string'\u001b[0m: \u001b[1m{\u001b[0m\n",
       "        \u001b[32m'NA'\u001b[0m: \u001b[1m{\u001b[0m\u001b[32m'text'\u001b[0m: \u001b[1;36m6\u001b[0m\u001b[1m}\u001b[0m,\n",
       "        \u001b[32m'NA %'\u001b[0m: \u001b[1m{\u001b[0m\u001b[32m'text'\u001b[0m: \u001b[1;36m0.6\u001b[0m\u001b[1m}\u001b[0m,\n",
       "        \u001b[32m'words per row'\u001b[0m: \u001b[1m{\u001b[0m\u001b[32m'text'\u001b[0m: \u001b[1;36m5.8\u001b[0m\u001b[1m}\u001b[0m,\n",
       "        \u001b[32m'total words'\u001b[0m: \u001b[1m{\u001b[0m\u001b[32m'text'\u001b[0m: \u001b[1;36m5761\u001b[0m\u001b[1m}\u001b[0m\n",
       "    \u001b[1m}\u001b[0m\n",
       "\u001b[1m}\u001b[0m\n"
      ]
     },
     "metadata": {},
     "output_type": "display_data"
    }
   ],
   "source": [
    "print(summary)"
   ]
  },
  {
   "cell_type": "markdown",
   "metadata": {},
   "source": [
    "## Clean up messy dataframe column names\n",
    "\n",
    "**skimpy** also comes with a `clean_columns` function as a convenience (with thanks to the [**dataprep**](https://dataprep.ai/) package). This slugifies column names in **pandas** dataframes. For example,"
   ]
  },
  {
   "cell_type": "code",
   "execution_count": 3,
   "metadata": {},
   "outputs": [
    {
     "data": {
      "text/html": [
       "<pre style=\"white-space:pre;overflow-x:auto;line-height:normal;font-family:Menlo,'DejaVu Sans Mono',consolas,'Courier New',monospace\">Column names:\n",
       "</pre>\n"
      ],
      "text/plain": [
       "Column names:\n"
      ]
     },
     "metadata": {},
     "output_type": "display_data"
    },
    {
     "data": {
      "text/html": [
       "<pre style=\"white-space:pre;overflow-x:auto;line-height:normal;font-family:Menlo,'DejaVu Sans Mono',consolas,'Courier New',monospace\"><span style=\"font-weight: bold\">[</span><span style=\"color: #008000; text-decoration-color: #008000\">'bs lncs;n edbn '</span>, <span style=\"color: #008000; text-decoration-color: #008000\">'Nín hǎo. Wǒ shì zhōng guó rén'</span>, <span style=\"color: #008000; text-decoration-color: #008000\">'___This is a test___'</span>, <span style=\"color: #008000; text-decoration-color: #008000\">'ÜBER Über German Umlaut'</span><span style=\"font-weight: bold\">]</span>\n",
       "</pre>\n"
      ],
      "text/plain": [
       "\u001b[1m[\u001b[0m\u001b[32m'bs lncs;n edbn '\u001b[0m, \u001b[32m'Nín hǎo. Wǒ shì zhōng guó rén'\u001b[0m, \u001b[32m'___This is a test___'\u001b[0m, \u001b[32m'ÜBER Über German Umlaut'\u001b[0m\u001b[1m]\u001b[0m\n"
      ]
     },
     "metadata": {},
     "output_type": "display_data"
    }
   ],
   "source": [
    "from skimpy import clean_columns\n",
    "\n",
    "columns = [\n",
    "    \"bs lncs;n edbn \",\n",
    "    \"Nín hǎo. Wǒ shì zhōng guó rén\",\n",
    "    \"___This is a test___\",\n",
    "    \"ÜBER Über German Umlaut\",\n",
    "]\n",
    "messy_df = pd.DataFrame(columns=columns, index=[0], data=[range(len(columns))])\n",
    "print(\"Column names:\")\n",
    "print(list(messy_df.columns))"
   ]
  },
  {
   "cell_type": "markdown",
   "metadata": {},
   "source": [
    "Now let's clean these—by default what we get back is in *snake case*:"
   ]
  },
  {
   "cell_type": "code",
   "execution_count": 4,
   "metadata": {},
   "outputs": [
    {
     "data": {
      "text/html": [
       "<pre style=\"white-space:pre;overflow-x:auto;line-height:normal;font-family:Menlo,'DejaVu Sans Mono',consolas,'Courier New',monospace\"><span style=\"font-weight: bold\">[</span><span style=\"color: #008000; text-decoration-color: #008000\">'bs_lncs_n_edbn'</span>, <span style=\"color: #008000; text-decoration-color: #008000\">'nin_hao_wo_shi_zhong_guo_ren'</span>, <span style=\"color: #008000; text-decoration-color: #008000\">'this_is_a_test'</span>, <span style=\"color: #008000; text-decoration-color: #008000\">'uber_uber_german_umlaut'</span><span style=\"font-weight: bold\">]</span>\n",
       "</pre>\n"
      ],
      "text/plain": [
       "\u001b[1m[\u001b[0m\u001b[32m'bs_lncs_n_edbn'\u001b[0m, \u001b[32m'nin_hao_wo_shi_zhong_guo_ren'\u001b[0m, \u001b[32m'this_is_a_test'\u001b[0m, \u001b[32m'uber_uber_german_umlaut'\u001b[0m\u001b[1m]\u001b[0m\n"
      ]
     },
     "metadata": {},
     "output_type": "display_data"
    }
   ],
   "source": [
    "clean_df = clean_columns(messy_df)\n",
    "print(list(clean_df.columns))"
   ]
  },
  {
   "cell_type": "markdown",
   "metadata": {},
   "source": [
    "Other naming conventions are available, for example *camel case*:"
   ]
  },
  {
   "cell_type": "code",
   "execution_count": 5,
   "metadata": {},
   "outputs": [
    {
     "data": {
      "text/html": [
       "<pre style=\"white-space:pre;overflow-x:auto;line-height:normal;font-family:Menlo,'DejaVu Sans Mono',consolas,'Courier New',monospace\"><span style=\"font-weight: bold\">[</span><span style=\"color: #008000; text-decoration-color: #008000\">'bsLncsNEdbn'</span>, <span style=\"color: #008000; text-decoration-color: #008000\">'ninHaoWoShiZhongGuoRen'</span>, <span style=\"color: #008000; text-decoration-color: #008000\">'thisIsATest'</span>, <span style=\"color: #008000; text-decoration-color: #008000\">'uberUberGermanUmlaut'</span><span style=\"font-weight: bold\">]</span>\n",
       "</pre>\n"
      ],
      "text/plain": [
       "\u001b[1m[\u001b[0m\u001b[32m'bsLncsNEdbn'\u001b[0m, \u001b[32m'ninHaoWoShiZhongGuoRen'\u001b[0m, \u001b[32m'thisIsATest'\u001b[0m, \u001b[32m'uberUberGermanUmlaut'\u001b[0m\u001b[1m]\u001b[0m\n"
      ]
     },
     "metadata": {},
     "output_type": "display_data"
    }
   ],
   "source": [
    "clean_df = clean_columns(messy_df, case=\"camel\")\n",
    "print(list(clean_df.columns))"
   ]
  },
  {
   "cell_type": "markdown",
   "metadata": {},
   "source": [
    "## Exporting visual summary table to SVG\n",
    "\n",
    "To export the figure containing the table of summary statistics."
   ]
  },
  {
   "cell_type": "markdown",
   "metadata": {},
   "source": [
    "## Run skim on a csv file from the command line"
   ]
  },
  {
   "cell_type": "markdown",
   "metadata": {},
   "source": [
    "\n",
    "```bash\n",
    "$ skimpy file.csv\n",
    "```"
   ]
  }
 ],
 "metadata": {
  "kernelspec": {
   "display_name": "Python 3.8.8 ('.venv': poetry)",
   "language": "python",
   "name": "python3"
  },
  "language_info": {
   "codemirror_mode": {
    "name": "ipython",
    "version": 3
   },
   "file_extension": ".py",
   "mimetype": "text/x-python",
   "name": "python",
   "nbconvert_exporter": "python",
   "pygments_lexer": "ipython3",
   "version": "3.10.12"
  },
  "vscode": {
   "interpreter": {
    "hash": "40632773287a790210327f0a4164f429b4430d796dff9694a1110ee4b5468ac6"
   }
  }
 },
 "nbformat": 4,
 "nbformat_minor": 4
}
